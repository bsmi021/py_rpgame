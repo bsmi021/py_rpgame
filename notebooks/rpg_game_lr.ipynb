{
 "cells": [
  {
   "cell_type": "markdown",
   "metadata": {
    "collapsed": true
   },
   "source": [
    "# Modeling work for RPG Game"
   ]
  },
  {
   "cell_type": "code",
   "execution_count": 8,
   "metadata": {},
   "outputs": [],
   "source": [
    "#imports\n",
    "%matplotlib inline\n",
    "import pandas as pd\n",
    "import numpy as np\n",
    "import matplotlib.pyplot as plt\n",
    "from sklearn.linear_model import LinearRegression\n",
    "\n"
   ]
  },
  {
   "cell_type": "markdown",
   "metadata": {},
   "source": [
    "## Load the data\n",
    "\n",
    "Note that the database store has about 170K records from previous fights recorded a while ago"
   ]
  },
  {
   "cell_type": "code",
   "execution_count": 9,
   "metadata": {},
   "outputs": [
    {
     "name": "stdout",
     "output_type": "stream",
     "text": [
      "<class 'pandas.core.frame.DataFrame'>\n",
      "Int64Index: 169179 entries, 0 to 0\n",
      "Data columns (total 57 columns):\n",
      "att_attack_amt                 169179 non-null int64\n",
      "att_base_attack_amt            169179 non-null int64\n",
      "att_blocked                    169179 non-null int64\n",
      "att_blocked_amt                169179 non-null int64\n",
      "att_critical                   169179 non-null int64\n",
      "att_dodged                     169179 non-null int64\n",
      "att_enemy_base_hp              169179 non-null int64\n",
      "att_enemy_hp                   169179 non-null int64\n",
      "att_enemy_is_dead              169179 non-null int64\n",
      "att_enemy_prev_hp              169179 non-null int64\n",
      "att_event_time                 169179 non-null object\n",
      "att_missed                     169179 non-null int64\n",
      "att_overkill_amt               169179 non-null int64\n",
      "attack_id                      169179 non-null int64\n",
      "en_block_amount                169179 non-null float64\n",
      "en_block_chance                169179 non-null float64\n",
      "en_can_block                   169179 non-null int64\n",
      "en_can_dodge                   169179 non-null int64\n",
      "en_can_parry                   169179 non-null int64\n",
      "en_dodge_chance                169179 non-null float64\n",
      "en_enemy_level                 169179 non-null int64\n",
      "en_enemy_name                  169179 non-null object\n",
      "en_experience_worth            169179 non-null int64\n",
      "en_gold_value                  169179 non-null float64\n",
      "en_hit_points                  169179 non-null int64\n",
      "en_original_hit_points         169179 non-null int64\n",
      "en_parry_chance                169179 non-null float64\n",
      "en_previous_hp                 169179 non-null int64\n",
      "en_race                        169179 non-null object\n",
      "fight_cr_date                  169179 non-null object\n",
      "fight_id                       169179 non-null int64\n",
      "opcode                         169179 non-null object\n",
      "party_cr_date                  169179 non-null object\n",
      "party_id                       169179 non-null int64\n",
      "party_name                     169179 non-null object\n",
      "player_back_slot               169179 non-null int64\n",
      "player_base_critical_chance    169179 non-null float64\n",
      "player_base_max_damage         169179 non-null int64\n",
      "player_base_min_damage         169179 non-null int64\n",
      "player_both_hand_slot          169179 non-null int64\n",
      "player_chest_slot              169179 non-null int64\n",
      "player_critical_chance         169179 non-null float64\n",
      "player_critical_multiplier     169179 non-null float64\n",
      "player_feet_slot               169179 non-null int64\n",
      "player_hands_slot              169179 non-null int64\n",
      "player_head_slot               169179 non-null int64\n",
      "player_id                      169179 non-null int64\n",
      "player_instance_id             169179 non-null int64\n",
      "player_legs_slot               169179 non-null int64\n",
      "player_level                   169179 non-null int64\n",
      "player_main_hand_slot          169179 non-null int64\n",
      "player_max_damage              169179 non-null int64\n",
      "player_min_damage              169179 non-null int64\n",
      "player_miss_chance             169179 non-null float64\n",
      "player_name                    169179 non-null object\n",
      "player_off_hand_slot           169179 non-null int64\n",
      "player_shoulders_slot          169179 non-null int64\n",
      "dtypes: float64(9), int64(40), object(8)\n",
      "memory usage: 74.9+ MB\n"
     ]
    }
   ],
   "source": [
    "STORE = 'data/store.h5'\n",
    "TABLE_KEY = 'events_df'\n",
    "\n",
    "with pd.HDFStore(STORE) as store:\n",
    "    src_df = store.get(TABLE_KEY)\n",
    "    store.close()\n",
    "\n",
    "#src_df.set_index('attack_id', inplace=True)\n",
    "\n",
    "src_df.info()"
   ]
  },
  {
   "cell_type": "markdown",
   "metadata": {},
   "source": [
    "## Build test and train sets"
   ]
  },
  {
   "cell_type": "code",
   "execution_count": 10,
   "metadata": {},
   "outputs": [],
   "source": [
    "\n",
    "src_df['att_effective_amt'] = src_df.att_attack_amt - src_df.att_blocked_amt\n",
    "src_df['att_blocked_amt'] = -1 * src_df.att_blocked_amt\n",
    "\n",
    "att_dodged_bool = src_df.att_dodged ==1\n",
    "\n",
    "src_df.loc[att_dodged_bool, 'att_effective_amt'] = 0\n",
    "\n",
    "#landed_attack_bool = src_df.att_attack_amt > 0\n",
    "\n",
    "#df = src_df[landed_attack_bool]\n",
    "msk = np.random.rand(len(src_df)) < 0.8\n",
    "\n",
    "train = src_df[msk]\n",
    "test = src_df[~msk]"
   ]
  },
  {
   "cell_type": "markdown",
   "metadata": {},
   "source": [
    "### Build the model"
   ]
  },
  {
   "cell_type": "code",
   "execution_count": 11,
   "metadata": {},
   "outputs": [
    {
     "name": "stderr",
     "output_type": "stream",
     "text": [
      "C:\\Program Files\\Python36\\lib\\site-packages\\ipykernel_launcher.py:14: SettingWithCopyWarning: \n",
      "A value is trying to be set on a copy of a slice from a DataFrame.\n",
      "Try using .loc[row_indexer,col_indexer] = value instead\n",
      "\n",
      "See the caveats in the documentation: http://pandas.pydata.org/pandas-docs/stable/indexing.html#indexing-view-versus-copy\n",
      "  \n"
     ]
    }
   ],
   "source": [
    "model = LinearRegression(fit_intercept=False)\n",
    "\n",
    "input_cols = ['att_blocked_amt', 'att_base_attack_amt',\n",
    "                  'player_min_damage', 'player_max_damage', 'att_blocked',\n",
    "                  'att_critical', 'att_dodged', 'att_missed']\n",
    "\n",
    "x_train = train[input_cols]\n",
    "y_train = train[['att_effective_amt']]\n",
    "\n",
    "x_test = test[input_cols]\n",
    "\n",
    "model.fit(x_train, y_train)\n",
    "\n",
    "x_train['predicted'] = model.predict(x_train)"
   ]
  },
  {
   "cell_type": "code",
   "execution_count": 12,
   "metadata": {},
   "outputs": [
    {
     "name": "stdout",
     "output_type": "stream",
     "text": [
      "    att_effective_amt  predicted\n",
      "0                  41  44.622588\n",
      "4                  33  33.930126\n",
      "6                  40  43.185331\n",
      "12                 47  52.742634\n",
      "17                 49  55.113652\n"
     ]
    },
    {
     "name": "stderr",
     "output_type": "stream",
     "text": [
      "C:\\Program Files\\Python36\\lib\\site-packages\\pandas\\core\\indexing.py:362: SettingWithCopyWarning: \n",
      "A value is trying to be set on a copy of a slice from a DataFrame.\n",
      "Try using .loc[row_indexer,col_indexer] = value instead\n",
      "\n",
      "See the caveats in the documentation: http://pandas.pydata.org/pandas-docs/stable/indexing.html#indexing-view-versus-copy\n",
      "  self.obj[key] = _infer_fill_value(value)\n",
      "C:\\Program Files\\Python36\\lib\\site-packages\\pandas\\core\\indexing.py:543: SettingWithCopyWarning: \n",
      "A value is trying to be set on a copy of a slice from a DataFrame.\n",
      "Try using .loc[row_indexer,col_indexer] = value instead\n",
      "\n",
      "See the caveats in the documentation: http://pandas.pydata.org/pandas-docs/stable/indexing.html#indexing-view-versus-copy\n",
      "  self.obj[item] = s\n"
     ]
    }
   ],
   "source": [
    "pred = model.predict(test[input_cols])\n",
    "\n",
    "test.loc[:, 'predicted'] = pred\n",
    "print(test.loc[:,['att_effective_amt', 'predicted']].head())"
   ]
  },
  {
   "cell_type": "code",
   "execution_count": 13,
   "metadata": {},
   "outputs": [
    {
     "data": {
      "image/png": "[encoded data removed]",
      "text/plain": [
       "<Figure size 432x288 with 1 Axes>"
      ]
     },
     "metadata": {
      "needs_background": "light"
     },
     "output_type": "display_data"
    }
   ],
   "source": [
    "test[['att_effective_amt', 'predicted']].head(100).plot(alpha=.5);"
   ]
  },
  {
   "cell_type": "code",
   "execution_count": 14,
   "metadata": {},
   "outputs": [
    {
     "data": {
      "text/html": [
       "<div>\n",
       "<style scoped>\n",
       "    .dataframe tbody tr th:only-of-type {\n",
       "        vertical-align: middle;\n",
       "    }\n",
       "\n",
       "    .dataframe tbody tr th {\n",
       "        vertical-align: top;\n",
       "    }\n",
       "\n",
       "    .dataframe thead th {\n",
       "        text-align: right;\n",
       "    }\n",
       "</style>\n",
       "<table border=\"1\" class=\"dataframe\">\n",
       "  <thead>\n",
       "    <tr style=\"text-align: right;\">\n",
       "      <th></th>\n",
       "      <th>att_attack_amt</th>\n",
       "      <th>att_base_attack_amt</th>\n",
       "      <th>att_blocked</th>\n",
       "      <th>att_blocked_amt</th>\n",
       "      <th>att_critical</th>\n",
       "      <th>att_dodged</th>\n",
       "      <th>att_enemy_base_hp</th>\n",
       "      <th>att_enemy_hp</th>\n",
       "      <th>att_enemy_is_dead</th>\n",
       "      <th>att_enemy_prev_hp</th>\n",
       "      <th>...</th>\n",
       "      <th>player_legs_slot</th>\n",
       "      <th>player_level</th>\n",
       "      <th>player_main_hand_slot</th>\n",
       "      <th>player_max_damage</th>\n",
       "      <th>player_min_damage</th>\n",
       "      <th>player_miss_chance</th>\n",
       "      <th>player_name</th>\n",
       "      <th>player_off_hand_slot</th>\n",
       "      <th>player_shoulders_slot</th>\n",
       "      <th>att_effective_amt</th>\n",
       "    </tr>\n",
       "  </thead>\n",
       "  <tbody>\n",
       "    <tr>\n",
       "      <th>1</th>\n",
       "      <td>38</td>\n",
       "      <td>38</td>\n",
       "      <td>0</td>\n",
       "      <td>0</td>\n",
       "      <td>0</td>\n",
       "      <td>0</td>\n",
       "      <td>13604</td>\n",
       "      <td>8665</td>\n",
       "      <td>0</td>\n",
       "      <td>8703</td>\n",
       "      <td>...</td>\n",
       "      <td>24</td>\n",
       "      <td>2</td>\n",
       "      <td>-99</td>\n",
       "      <td>49</td>\n",
       "      <td>18</td>\n",
       "      <td>0.05</td>\n",
       "      <td>Roman</td>\n",
       "      <td>-99</td>\n",
       "      <td>20</td>\n",
       "      <td>38</td>\n",
       "    </tr>\n",
       "    <tr>\n",
       "      <th>2</th>\n",
       "      <td>47</td>\n",
       "      <td>47</td>\n",
       "      <td>1</td>\n",
       "      <td>-27</td>\n",
       "      <td>0</td>\n",
       "      <td>0</td>\n",
       "      <td>11169</td>\n",
       "      <td>5680</td>\n",
       "      <td>0</td>\n",
       "      <td>5700</td>\n",
       "      <td>...</td>\n",
       "      <td>24</td>\n",
       "      <td>2</td>\n",
       "      <td>-99</td>\n",
       "      <td>51</td>\n",
       "      <td>18</td>\n",
       "      <td>0.05</td>\n",
       "      <td>Oliver</td>\n",
       "      <td>-99</td>\n",
       "      <td>21</td>\n",
       "      <td>20</td>\n",
       "    </tr>\n",
       "    <tr>\n",
       "      <th>3</th>\n",
       "      <td>21</td>\n",
       "      <td>21</td>\n",
       "      <td>0</td>\n",
       "      <td>0</td>\n",
       "      <td>0</td>\n",
       "      <td>0</td>\n",
       "      <td>8892</td>\n",
       "      <td>4469</td>\n",
       "      <td>0</td>\n",
       "      <td>4490</td>\n",
       "      <td>...</td>\n",
       "      <td>23</td>\n",
       "      <td>1</td>\n",
       "      <td>-99</td>\n",
       "      <td>45</td>\n",
       "      <td>17</td>\n",
       "      <td>0.05</td>\n",
       "      <td>Finn</td>\n",
       "      <td>-99</td>\n",
       "      <td>20</td>\n",
       "      <td>21</td>\n",
       "    </tr>\n",
       "    <tr>\n",
       "      <th>5</th>\n",
       "      <td>80</td>\n",
       "      <td>32</td>\n",
       "      <td>0</td>\n",
       "      <td>0</td>\n",
       "      <td>1</td>\n",
       "      <td>0</td>\n",
       "      <td>9700</td>\n",
       "      <td>4766</td>\n",
       "      <td>0</td>\n",
       "      <td>4846</td>\n",
       "      <td>...</td>\n",
       "      <td>22</td>\n",
       "      <td>1</td>\n",
       "      <td>-99</td>\n",
       "      <td>44</td>\n",
       "      <td>16</td>\n",
       "      <td>0.05</td>\n",
       "      <td>Conrad</td>\n",
       "      <td>-99</td>\n",
       "      <td>20</td>\n",
       "      <td>80</td>\n",
       "    </tr>\n",
       "    <tr>\n",
       "      <th>7</th>\n",
       "      <td>17</td>\n",
       "      <td>17</td>\n",
       "      <td>0</td>\n",
       "      <td>0</td>\n",
       "      <td>0</td>\n",
       "      <td>0</td>\n",
       "      <td>10509</td>\n",
       "      <td>5568</td>\n",
       "      <td>0</td>\n",
       "      <td>5585</td>\n",
       "      <td>...</td>\n",
       "      <td>23</td>\n",
       "      <td>1</td>\n",
       "      <td>-99</td>\n",
       "      <td>46</td>\n",
       "      <td>16</td>\n",
       "      <td>0.05</td>\n",
       "      <td>Sandy</td>\n",
       "      <td>-99</td>\n",
       "      <td>20</td>\n",
       "      <td>17</td>\n",
       "    </tr>\n",
       "  </tbody>\n",
       "</table>\n",
       "<p>5 rows × 58 columns</p>\n",
       "</div>"
      ],
      "text/plain": [
       "   att_attack_amt  att_base_attack_amt  att_blocked  att_blocked_amt  \\\n",
       "1              38                   38            0                0   \n",
       "2              47                   47            1              -27   \n",
       "3              21                   21            0                0   \n",
       "5              80                   32            0                0   \n",
       "7              17                   17            0                0   \n",
       "\n",
       "   att_critical  att_dodged  att_enemy_base_hp  att_enemy_hp  \\\n",
       "1             0           0              13604          8665   \n",
       "2             0           0              11169          5680   \n",
       "3             0           0               8892          4469   \n",
       "5             1           0               9700          4766   \n",
       "7             0           0              10509          5568   \n",
       "\n",
       "   att_enemy_is_dead  att_enemy_prev_hp        ...         player_legs_slot  \\\n",
       "1                  0               8703        ...                       24   \n",
       "2                  0               5700        ...                       24   \n",
       "3                  0               4490        ...                       23   \n",
       "5                  0               4846        ...                       22   \n",
       "7                  0               5585        ...                       23   \n",
       "\n",
       "   player_level  player_main_hand_slot  player_max_damage  player_min_damage  \\\n",
       "1             2                    -99                 49                 18   \n",
       "2             2                    -99                 51                 18   \n",
       "3             1                    -99                 45                 17   \n",
       "5             1                    -99                 44                 16   \n",
       "7             1                    -99                 46                 16   \n",
       "\n",
       "   player_miss_chance  player_name  player_off_hand_slot  \\\n",
       "1                0.05        Roman                   -99   \n",
       "2                0.05       Oliver                   -99   \n",
       "3                0.05         Finn                   -99   \n",
       "5                0.05       Conrad                   -99   \n",
       "7                0.05        Sandy                   -99   \n",
       "\n",
       "   player_shoulders_slot  att_effective_amt  \n",
       "1                     20                 38  \n",
       "2                     21                 20  \n",
       "3                     20                 21  \n",
       "5                     20                 80  \n",
       "7                     20                 17  \n",
       "\n",
       "[5 rows x 58 columns]"
      ]
     },
     "execution_count": 14,
     "metadata": {},
     "output_type": "execute_result"
    }
   ],
   "source": [
    "train.head()"
   ]
  },
  {
   "cell_type": "code",
   "execution_count": 15,
   "metadata": {},
   "outputs": [
    {
     "data": {
      "text/html": [
       "<div>\n",
       "<style scoped>\n",
       "    .dataframe tbody tr th:only-of-type {\n",
       "        vertical-align: middle;\n",
       "    }\n",
       "\n",
       "    .dataframe tbody tr th {\n",
       "        vertical-align: top;\n",
       "    }\n",
       "\n",
       "    .dataframe thead th {\n",
       "        text-align: right;\n",
       "    }\n",
       "</style>\n",
       "<table border=\"1\" class=\"dataframe\">\n",
       "  <thead>\n",
       "    <tr style=\"text-align: right;\">\n",
       "      <th></th>\n",
       "      <th>att_effective_amt</th>\n",
       "      <th>predicted</th>\n",
       "    </tr>\n",
       "  </thead>\n",
       "  <tbody>\n",
       "    <tr>\n",
       "      <th>0</th>\n",
       "      <td>41</td>\n",
       "      <td>44.622588</td>\n",
       "    </tr>\n",
       "    <tr>\n",
       "      <th>4</th>\n",
       "      <td>33</td>\n",
       "      <td>33.930126</td>\n",
       "    </tr>\n",
       "    <tr>\n",
       "      <th>6</th>\n",
       "      <td>40</td>\n",
       "      <td>43.185331</td>\n",
       "    </tr>\n",
       "    <tr>\n",
       "      <th>12</th>\n",
       "      <td>47</td>\n",
       "      <td>52.742634</td>\n",
       "    </tr>\n",
       "    <tr>\n",
       "      <th>17</th>\n",
       "      <td>49</td>\n",
       "      <td>55.113652</td>\n",
       "    </tr>\n",
       "  </tbody>\n",
       "</table>\n",
       "</div>"
      ],
      "text/plain": [
       "    att_effective_amt  predicted\n",
       "0                  41  44.622588\n",
       "4                  33  33.930126\n",
       "6                  40  43.185331\n",
       "12                 47  52.742634\n",
       "17                 49  55.113652"
      ]
     },
     "execution_count": 15,
     "metadata": {},
     "output_type": "execute_result"
    }
   ],
   "source": [
    "test.loc[:, ['att_effective_amt', 'predicted']].head()"
   ]
  },
  {
   "cell_type": "code",
   "execution_count": 16,
   "metadata": {},
   "outputs": [
    {
     "name": "stderr",
     "output_type": "stream",
     "text": [
      "C:\\Program Files\\Python36\\lib\\site-packages\\pandas\\core\\indexing.py:362: SettingWithCopyWarning: \n",
      "A value is trying to be set on a copy of a slice from a DataFrame.\n",
      "Try using .loc[row_indexer,col_indexer] = value instead\n",
      "\n",
      "See the caveats in the documentation: http://pandas.pydata.org/pandas-docs/stable/indexing.html#indexing-view-versus-copy\n",
      "  self.obj[key] = _infer_fill_value(value)\n",
      "C:\\Program Files\\Python36\\lib\\site-packages\\pandas\\core\\indexing.py:543: SettingWithCopyWarning: \n",
      "A value is trying to be set on a copy of a slice from a DataFrame.\n",
      "Try using .loc[row_indexer,col_indexer] = value instead\n",
      "\n",
      "See the caveats in the documentation: http://pandas.pydata.org/pandas-docs/stable/indexing.html#indexing-view-versus-copy\n",
      "  self.obj[item] = s\n"
     ]
    },
    {
     "data": {
      "text/html": [
       "<div>\n",
       "<style scoped>\n",
       "    .dataframe tbody tr th:only-of-type {\n",
       "        vertical-align: middle;\n",
       "    }\n",
       "\n",
       "    .dataframe tbody tr th {\n",
       "        vertical-align: top;\n",
       "    }\n",
       "\n",
       "    .dataframe thead th {\n",
       "        text-align: right;\n",
       "    }\n",
       "</style>\n",
       "<table border=\"1\" class=\"dataframe\">\n",
       "  <thead>\n",
       "    <tr style=\"text-align: right;\">\n",
       "      <th></th>\n",
       "      <th>att_effective_amt</th>\n",
       "      <th>predicted</th>\n",
       "    </tr>\n",
       "  </thead>\n",
       "  <tbody>\n",
       "    <tr>\n",
       "      <th>1</th>\n",
       "      <td>38</td>\n",
       "      <td>40.612915</td>\n",
       "    </tr>\n",
       "    <tr>\n",
       "      <th>2</th>\n",
       "      <td>20</td>\n",
       "      <td>25.298524</td>\n",
       "    </tr>\n",
       "    <tr>\n",
       "      <th>3</th>\n",
       "      <td>21</td>\n",
       "      <td>18.585453</td>\n",
       "    </tr>\n",
       "    <tr>\n",
       "      <th>5</th>\n",
       "      <td>80</td>\n",
       "      <td>80.122285</td>\n",
       "    </tr>\n",
       "    <tr>\n",
       "      <th>7</th>\n",
       "      <td>17</td>\n",
       "      <td>13.429746</td>\n",
       "    </tr>\n",
       "    <tr>\n",
       "      <th>8</th>\n",
       "      <td>88</td>\n",
       "      <td>82.452695</td>\n",
       "    </tr>\n",
       "    <tr>\n",
       "      <th>9</th>\n",
       "      <td>31</td>\n",
       "      <td>30.663690</td>\n",
       "    </tr>\n",
       "    <tr>\n",
       "      <th>10</th>\n",
       "      <td>50</td>\n",
       "      <td>56.349510</td>\n",
       "    </tr>\n",
       "    <tr>\n",
       "      <th>11</th>\n",
       "      <td>0</td>\n",
       "      <td>0.814688</td>\n",
       "    </tr>\n",
       "    <tr>\n",
       "      <th>13</th>\n",
       "      <td>100</td>\n",
       "      <td>89.426706</td>\n",
       "    </tr>\n",
       "  </tbody>\n",
       "</table>\n",
       "</div>"
      ],
      "text/plain": [
       "    att_effective_amt  predicted\n",
       "1                  38  40.612915\n",
       "2                  20  25.298524\n",
       "3                  21  18.585453\n",
       "5                  80  80.122285\n",
       "7                  17  13.429746\n",
       "8                  88  82.452695\n",
       "9                  31  30.663690\n",
       "10                 50  56.349510\n",
       "11                  0   0.814688\n",
       "13                100  89.426706"
      ]
     },
     "execution_count": 16,
     "metadata": {},
     "output_type": "execute_result"
    }
   ],
   "source": [
    "train.loc[:,'predicted'] = model.predict(train[input_cols])\n",
    "\n",
    "train.loc[:,['att_effective_amt', 'predicted']].head(10)"
   ]
  },
  {
   "cell_type": "code",
   "execution_count": 17,
   "metadata": {},
   "outputs": [
    {
     "data": {
      "text/plain": [
       "array([[  0.78329432,   1.33655774,  -0.29122316,  -0.10069923,\n",
       "         -5.99306515,  46.44277381, -47.99471933,  10.1064236 ]])"
      ]
     },
     "execution_count": 17,
     "metadata": {},
     "output_type": "execute_result"
    }
   ],
   "source": [
    "model.coef_"
   ]
  },
  {
   "cell_type": "code",
   "execution_count": 18,
   "metadata": {},
   "outputs": [],
   "source": [
    "from pickle import dump, load\n",
    "\n",
    "dump(model, open('p_attack_lr_v1.sav', 'wb'))"
   ]
  },
  {
   "cell_type": "code",
   "execution_count": 19,
   "metadata": {},
   "outputs": [
    {
     "name": "stdout",
     "output_type": "stream",
     "text": [
      "[[40.61291487]\n",
      " [25.29852438]\n",
      " [18.58545341]\n",
      " ...\n",
      " [63.09834863]\n",
      " [33.67951092]\n",
      " [74.57465532]]\n"
     ]
    }
   ],
   "source": [
    "model2 = load(open('p_attack_lr_v1.sav', 'rb'))\n",
    "\n",
    "pred = model2.predict(train[input_cols])\n",
    "\n",
    "print(pred)"
   ]
  },
  {
   "cell_type": "code",
   "execution_count": 20,
   "metadata": {},
   "outputs": [
    {
     "name": "stdout",
     "output_type": "stream",
     "text": [
      "   att_blocked_amt  att_base_attack_amt  player_min_damage  player_max_damage  \\\n",
      "1                0                   38                 18                 49   \n",
      "2              -27                   47                 18                 51   \n",
      "3                0                   21                 17                 45   \n",
      "5                0                   32                 16                 44   \n",
      "7                0                   17                 16                 46   \n",
      "\n",
      "   att_blocked  att_critical  att_dodged  att_missed  \n",
      "1            0             0           0           0  \n",
      "2            1             0           0           0  \n",
      "3            0             0           0           0  \n",
      "5            0             1           0           0  \n",
      "7            0             0           0           0  \n"
     ]
    }
   ],
   "source": [
    "print(train[input_cols].head())"
   ]
  },
  {
   "cell_type": "code",
   "execution_count": 22,
   "metadata": {},
   "outputs": [
    {
     "name": "stdout",
     "output_type": "stream",
     "text": [
      "[[-3.37213124]]\n"
     ]
    }
   ],
   "source": [
    "mod_test = np.array([0, 41, 18, 49, 0, 0, 1, 0])\n",
    "\n",
    "print(model2.predict(mod_test[np.newaxis, :]))"
   ]
  },
  {
   "cell_type": "code",
   "execution_count": null,
   "metadata": {},
   "outputs": [],
   "source": []
  }
 ],
 "metadata": {
  "kernelspec": {
   "display_name": "Python 3",
   "language": "python",
   "name": "python3"
  },
  "language_info": {
   "codemirror_mode": {
    "name": "ipython",
    "version": 3
   },
   "file_extension": ".py",
   "mimetype": "text/x-python",
   "name": "python",
   "nbconvert_exporter": "python",
   "pygments_lexer": "ipython3",
   "version": "3.6.0"
  }
 },
 "nbformat": 4,
 "nbformat_minor": 1
}
